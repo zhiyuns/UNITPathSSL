{
 "cells": [
  {
   "cell_type": "markdown",
   "metadata": {},
   "source": [
    "## Model Definition"
   ]
  },
  {
   "cell_type": "code",
   "execution_count": 26,
   "metadata": {},
   "outputs": [],
   "source": [
    "import torch\n",
    "import torch.nn as nn\n",
    "from torchvision import models\n",
    "import torch.nn.functional as F\n",
    "\n",
    "class Net(nn.Module):\n",
    "    def __init__(self, backbone, num_classes=-1):\n",
    "        super(Net, self).__init__()\n",
    "        self.resnet_layer = nn.Sequential(*list(backbone.children())[:-1])\n",
    "        self.num_classes = num_classes # when num_classes==-1, return the features instead of the logits\n",
    "        if num_classes != -1:\n",
    "            self.linear = nn.Linear(2048, num_classes)\n",
    "\n",
    "    def forward(self, x):\n",
    "        x = self.resnet_layer(x)\n",
    "        if self.num_classes != -1:\n",
    "            x = torch.flatten(x, 1)\n",
    "            x = self.linear(x)\n",
    "\n",
    "        return x\n",
    "\n",
    "group_norm = lambda channels: nn.GroupNorm(32, channels)\n",
    "resnet = models.resnet50(norm_layer=group_norm, pretrained=False)\n",
    "pretrain_path = \"./network-backbone_torchvision.pkl\"\n",
    "pretrained_dict = torch.load(pretrain_path)\n",
    "resnet.load_state_dict(pretrained_dict, strict=False)\n",
    "net = Net(resnet, 2)"
   ]
  },
  {
   "cell_type": "markdown",
   "metadata": {},
   "source": [
    "## Dataset Definition"
   ]
  },
  {
   "cell_type": "code",
   "execution_count": null,
   "metadata": {},
   "outputs": [],
   "source": [
    "import os\n",
    "import random\n",
    "from PIL import Image\n",
    "import torchvision.transforms as transforms\n",
    "from torch.utils.data import Dataset\n",
    "\n",
    "PIXEL_MEAN = [0.5, 0.5, 0.5]\n",
    "PIXEL_STD = [0.5, 0.5, 0.5]\n",
    "IMAGE_H = IMAGE_W = 256\n",
    "class_name = ['NORM', 'TUM']\n",
    "\n",
    "test_transform = transforms.Compose(\n",
    "     [transforms.ToTensor(),\n",
    "     transforms.Normalize(tuple(PIXEL_MEAN), tuple(PIXEL_STD))])\n",
    "\n",
    "class CRCDataset(Dataset):\n",
    "    def __init__(self, mode, img_path, data_transform, class_name):\n",
    "        self.mode = mode\n",
    "        self.transform = data_transform\n",
    "        self.img_path = img_path\n",
    "        image_name_file = os.path.join(img_path, f'{mode}.lst')\n",
    "        with open(image_name_file, 'r') as f:\n",
    "            subjects = f.readlines()\n",
    "        self.list_image_path = [subject.strip() for subject in subjects if subject.split('/')[1] in class_name]\n",
    "        print(f'len of dataset {mode}: {len(self.list_image_path)}')\n",
    "        self.data_size = len(self.list_image_path)\n",
    "        self.class_name = class_name\n",
    "\n",
    "    def __getitem__(self, item):\n",
    "        img_name = self.list_image_path[item]\n",
    "        image = Image.open(os.path.join(self.img_path, img_name.replace('./', '')))\n",
    "        image = image.resize((IMAGE_H, IMAGE_W)) # Crop might be better here\n",
    "        label = self.label[item]\n",
    "        return self.transform(image), torch.LongTensor([label])\n",
    "\n",
    "    def __len__(self):\n",
    "        return self.data_size\n",
    "\n",
    "testset = CRCDataset('test', '../crc_data', test_transform, class_name)\n",
    "testloader = torch.utils.data.DataLoader(testset, batch_size=1, shuffle=False, num_workers=1)"
   ]
  },
  {
   "cell_type": "markdown",
   "metadata": {},
   "source": [
    "## Get Features or Classification Results"
   ]
  },
  {
   "cell_type": "code",
   "execution_count": null,
   "metadata": {},
   "outputs": [],
   "source": [
    "device = 'cuda' if torch.cuda.is_available() else 'cpu'\n",
    "with torch.no_grad():\n",
    "    for data in testloader:\n",
    "        images, labels = data\n",
    "        images = images.to(device)\n",
    "        outputs = net(images)"
   ]
  },
  {
   "cell_type": "code",
   "execution_count": null,
   "metadata": {},
   "outputs": [],
   "source": []
  }
 ],
 "metadata": {
  "kernelspec": {
   "display_name": "mmlab",
   "language": "python",
   "name": "python3"
  },
  "language_info": {
   "codemirror_mode": {
    "name": "ipython",
    "version": 3
   },
   "file_extension": ".py",
   "mimetype": "text/x-python",
   "name": "python",
   "nbconvert_exporter": "python",
   "pygments_lexer": "ipython3",
   "version": "3.8.13"
  }
 },
 "nbformat": 4,
 "nbformat_minor": 2
}
